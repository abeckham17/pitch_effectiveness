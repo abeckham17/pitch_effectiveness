{
 "cells": [
  {
   "cell_type": "code",
   "execution_count": 17,
   "metadata": {},
   "outputs": [],
   "source": [
    "import pandas as pd\n",
    "import numpy as np"
   ]
  },
  {
   "cell_type": "code",
   "execution_count": 2,
   "metadata": {},
   "outputs": [],
   "source": [
    "major_conferences = pd.read_csv('major_conferences_filtered.csv')"
   ]
  },
  {
   "cell_type": "code",
   "execution_count": 24,
   "metadata": {},
   "outputs": [
    {
     "data": {
      "text/plain": [
       "Fastball       0.595905\n",
       "Slider         0.177146\n",
       "ChangeUp       0.101822\n",
       "Curveball      0.089949\n",
       "Cutter         0.013144\n",
       "Undefined      0.009771\n",
       "Sinker         0.007320\n",
       "Splitter       0.002772\n",
       "Other          0.002166\n",
       "KnuckleBall    0.000005\n",
       "Name: Tagged Pitch Type, dtype: float64"
      ]
     },
     "execution_count": 24,
     "metadata": {},
     "output_type": "execute_result"
    }
   ],
   "source": [
    "major_conferences['Tagged Pitch Type'].value_counts(normalize = True)"
   ]
  },
  {
   "cell_type": "code",
   "execution_count": 25,
   "metadata": {},
   "outputs": [],
   "source": [
    "fastball_df = major_conferences[major_conferences['Tagged Pitch Type'] == 'Fastball']\n",
    "slider_df = major_conferences[major_conferences['Tagged Pitch Type'] == 'Slider']\n",
    "curveball_df = major_conferences[major_conferences['Tagged Pitch Type'] == 'Curveball']\n",
    "changeup_df = major_conferences[major_conferences['Tagged Pitch Type'] == 'ChangeUp']"
   ]
  },
  {
   "cell_type": "code",
   "execution_count": 26,
   "metadata": {},
   "outputs": [],
   "source": [
    "df_dict = {'fastball' : fastball_df,\n",
    "          'slider': slider_df,\n",
    "          'curveball' : curveball_df,\n",
    "          'changeup' : changeup_df}"
   ]
  },
  {
   "cell_type": "code",
   "execution_count": 27,
   "metadata": {},
   "outputs": [],
   "source": [
    "averages_dict = {}\n",
    "for key in df_dict.keys():\n",
    "    cur_df = df_dict[key]\n",
    "    numeric_cols = []\n",
    "    for col in cur_df.columns:\n",
    "        if cur_df[col].dtype == float or cur_df[col].dtype == int:\n",
    "            numeric_cols.append(col)\n",
    "    unique_pitchers = cur_df['Pitcher Id'].unique()\n",
    "    average_df = pd.DataFrame(index = unique_pitchers, columns = numeric_cols)\n",
    "    \n",
    "    for pitcher in average_df.index:\n",
    "        pitcher_df = cur_df[cur_df['Pitcher Id'] == pitcher]\n",
    "        for col in average_df.columns:\n",
    "                average_df.loc[pitcher, col] = cur_df[col].mean()\n",
    "    averages_dict[key+'_averages'] = average_df"
   ]
  },
  {
   "cell_type": "code",
   "execution_count": 28,
   "metadata": {},
   "outputs": [],
   "source": [
    "def get_gb(hit_type):\n",
    "    if hit_type == 'Undefined':\n",
    "        return np.NaN\n",
    "    elif hit_type == 'GroundBall':\n",
    "        return 1\n",
    "    else:\n",
    "        return 0"
   ]
  },
  {
   "cell_type": "code",
   "execution_count": 29,
   "metadata": {},
   "outputs": [],
   "source": [
    "def whiff(pitch_call):\n",
    "    if pitch_call == 'StrikeSwinging':\n",
    "        return 1\n",
    "    else:\n",
    "        return 0"
   ]
  },
  {
   "cell_type": "code",
   "execution_count": 30,
   "metadata": {
    "scrolled": true
   },
   "outputs": [
    {
     "name": "stderr",
     "output_type": "stream",
     "text": [
      "/Users/AngelaBeckham/opt/anaconda3/lib/python3.7/site-packages/ipykernel_launcher.py:2: SettingWithCopyWarning: \n",
      "A value is trying to be set on a copy of a slice from a DataFrame.\n",
      "Try using .loc[row_indexer,col_indexer] = value instead\n",
      "\n",
      "See the caveats in the documentation: http://pandas.pydata.org/pandas-docs/stable/user_guide/indexing.html#returning-a-view-versus-a-copy\n",
      "  \n",
      "/Users/AngelaBeckham/opt/anaconda3/lib/python3.7/site-packages/ipykernel_launcher.py:3: SettingWithCopyWarning: \n",
      "A value is trying to be set on a copy of a slice from a DataFrame.\n",
      "Try using .loc[row_indexer,col_indexer] = value instead\n",
      "\n",
      "See the caveats in the documentation: http://pandas.pydata.org/pandas-docs/stable/user_guide/indexing.html#returning-a-view-versus-a-copy\n",
      "  This is separate from the ipykernel package so we can avoid doing imports until\n",
      "/Users/AngelaBeckham/opt/anaconda3/lib/python3.7/site-packages/ipykernel_launcher.py:6: SettingWithCopyWarning: \n",
      "A value is trying to be set on a copy of a slice from a DataFrame.\n",
      "Try using .loc[row_indexer,col_indexer] = value instead\n",
      "\n",
      "See the caveats in the documentation: http://pandas.pydata.org/pandas-docs/stable/user_guide/indexing.html#returning-a-view-versus-a-copy\n",
      "  \n",
      "/Users/AngelaBeckham/opt/anaconda3/lib/python3.7/site-packages/ipykernel_launcher.py:11: SettingWithCopyWarning: \n",
      "A value is trying to be set on a copy of a slice from a DataFrame\n",
      "\n",
      "See the caveats in the documentation: http://pandas.pydata.org/pandas-docs/stable/user_guide/indexing.html#returning-a-view-versus-a-copy\n",
      "  # This is added back by InteractiveShellApp.init_path()\n"
     ]
    }
   ],
   "source": [
    "for key in df_dict.keys():\n",
    "    df_dict[key]['whiff%'] = df_dict[key]['Pitch Call'].apply(whiff)\n",
    "    df_dict[key]['gb%'] = df_dict[key]['Hit Type'].apply(get_gb)\n",
    "    for col in averages_dict[key+'_averages'].columns:\n",
    "        cur_col = col + '_resid'\n",
    "        df_dict[key][cur_col] = [np.NaN]*df_dict[key].index.size\n",
    "    for i in df_dict[key].index:\n",
    "        cur_pitcher = df_dict[key]['Pitcher Id'][i]\n",
    "        for col in averages_dict[key+'_averages'].columns:\n",
    "            cur_col = col + '_resid'\n",
    "            df_dict[key][cur_col][i] = df_dict[key][col][i] - averages_dict[key + '_averages'][col][cur_pitcher]     "
   ]
  },
  {
   "cell_type": "code",
   "execution_count": 31,
   "metadata": {},
   "outputs": [],
   "source": [
    "for key in df_dict.keys():\n",
    "    df_dict[key].to_csv(key + '.csv')\n",
    "for key in averages_dict.keys():\n",
    "    averages_dict[key].to_csv(key + '.csv')"
   ]
  },
  {
   "cell_type": "code",
   "execution_count": null,
   "metadata": {},
   "outputs": [],
   "source": []
  },
  {
   "cell_type": "code",
   "execution_count": null,
   "metadata": {},
   "outputs": [],
   "source": [
    "for key in df_dict.keys():\n",
    "    df_dict[key].to_csv(key+'.csv', )"
   ]
  }
 ],
 "metadata": {
  "kernelspec": {
   "display_name": "Python 3",
   "language": "python",
   "name": "python3"
  },
  "language_info": {
   "codemirror_mode": {
    "name": "ipython",
    "version": 3
   },
   "file_extension": ".py",
   "mimetype": "text/x-python",
   "name": "python",
   "nbconvert_exporter": "python",
   "pygments_lexer": "ipython3",
   "version": "3.7.4"
  }
 },
 "nbformat": 4,
 "nbformat_minor": 2
}
